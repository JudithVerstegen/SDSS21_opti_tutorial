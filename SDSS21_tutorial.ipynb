{
  "nbformat": 4,
  "nbformat_minor": 0,
  "metadata": {
    "colab": {
      "name": "SDSS21_tutorial.ipynb",
      "provenance": [],
      "collapsed_sections": [],
      "include_colab_link": true
    },
    "kernelspec": {
      "name": "python3",
      "display_name": "Python 3"
    },
    "language_info": {
      "name": "python"
    }
  },
  "cells": [
    {
      "cell_type": "markdown",
      "metadata": {
        "id": "view-in-github",
        "colab_type": "text"
      },
      "source": [
        "<a href=\"https://colab.research.google.com/github/JudithVerstegen/SDSS21_opti_tutorial/blob/main/SDSS21_tutorial.ipynb\" target=\"_parent\"><img src=\"https://colab.research.google.com/assets/colab-badge.svg\" alt=\"Open In Colab\"/></a>"
      ]
    },
    {
      "cell_type": "markdown",
      "metadata": {
        "id": "eyi1JJPHVfVu"
      },
      "source": [
        "# **Spatial Optimization for Planning and Decision-making Tutorial**\n",
        "## Spatial Data Science Symposium, 2021\n",
        "\n",
        "### Session Organizers: Murray Group*, UC Santa Barbara\n",
        "\n",
        "\\*Susan Burtner, Dr. Jing Xu, Jiwon Baik, Seonga Cho, Vanessa Echeverri Figueroa, Evgeny Noi, B. Amelia Pludow, Enbo Zhou\n",
        "\n",
        "#### Contact Information: sab00@ucsb.edu\n",
        "\n",
        "<br>\n",
        "\n",
        "__*To session participants*__: PLEASE make a copy of this Jupyter notebook before making any edits (you must have a Google Drive or GitHub account to do so). Go to `File` > `Save a Copy in Drive` and a copy of this notebook will save to your `Colab Notebooks` folder in your personal Google Drive. If at any point while someone is presenting you have technical questions, please raise your hand or message Evgeny Noi in the chat."
      ]
    },
    {
      "cell_type": "markdown",
      "metadata": {
        "id": "S2sHAV_zWMh6"
      },
      "source": [
        "## **Introduction**\n",
        "\n",
        "In this Jupyter notebook, we explore how to formalize a spatial optimization problem and analyze solutions. By the end of this tutotial, you will\\:\n",
        "\n",
        "1. Identify a spatial optimization problem  \n",
        "2. Mathematically formalize a spatial optimization problem\n",
        "3. Operationalize and solve a spatial optimization problem through Python coding and mathematical programming (Xpress)\n",
        "4. Visualize solutions\n",
        "5. Be introduced to other method extensions and application areas\n",
        "\n",
        "***\n"
      ]
    },
    {
      "cell_type": "markdown",
      "metadata": {
        "id": "Viz_i6tbdzOV"
      },
      "source": [
        "## **PART I**: What is spatial optimization, and how can we use it?\n",
        "\n",
        "_Led by Dr. Jing Xu._\n",
        "\n",
        "Spatial optimization utilizes mathematical and computational approaches to assist decision-making in problems of a geographic nature. It is an interdisciplinary field related to operations research, geography, mathematics, computer science, urban planning, and others. Common applications of spatial optimization include route selection, facility siting, spatial sampling, and land use allocation. Spatial optimization is concerned with maximizing or minimizing an objective, and subjects to some constraints that reflects realistic restrictions or desired conditions. \n",
        "\n",
        "Here, we are going to work on the well-know **Knapsack problem**, apply it to forest treatment, and  explore some extensions.\n",
        "\n",
        "The Knapsack problem examines how to fill a knapsack (like a backpack) and can be explained as follows: given a set of candidate items, where each has its own value and weight, decide which items to pick so that the total value of selected items is maximized while the total weight does not exceed a certain capacity. \n"
      ]
    },
    {
      "cell_type": "markdown",
      "metadata": {
        "id": "YnOeIXrcbVa_"
      },
      "source": [
        "### **Study Area**: Stanislaus National Forest\n",
        "\n",
        "The context that we are interested in is to select land management units for monitoring and evaluation in Stanislaus National Forest, in order to maximize the total benefit from treatment while not exceeding the capacity of resources and labor. The study area is part of Stanislaus National Forest which is located northern California. \n",
        "\n"
      ]
    },
    {
      "cell_type": "code",
      "source": [
        "#@title Study Area { vertical-output: true }\n",
        "%%html\n",
        "<img src=\"https://raw.githubusercontent.com/sburtner/SDSS21/main/subarea.png\"\n",
        "  alt=\"Study_Area\"\n",
        "  style=\"width:450px; height:350px;\">"
      ],
      "metadata": {
        "colab": {
          "base_uri": "https://localhost:8080/",
          "height": 371
        },
        "id": "g7c0xkzX46tg",
        "outputId": "b7d4b01c-9350-41b9-b807-a9c4e7dd19da"
      },
      "execution_count": null,
      "outputs": [
        {
          "output_type": "display_data",
          "data": {
            "text/html": [
              "<img src=\"https://raw.githubusercontent.com/sburtner/SDSS21/main/subarea.png\"\n",
              "  alt=\"Study_Area\"\n",
              "  style=\"width:450px; height:350px;\">"
            ],
            "text/plain": [
              "<IPython.core.display.HTML object>"
            ]
          },
          "metadata": {}
        }
      ]
    },
    {
      "cell_type": "code",
      "metadata": {
        "colab": {
          "base_uri": "https://localhost:8080/",
          "height": 441
        },
        "id": "2mh4B-Oy1wkM",
        "outputId": "730e05a7-1910-4d6b-ab0f-c7b661845bee"
      },
      "source": [
        "#@title Stanislaus National Forest { vertical-output: true }\n",
        "%%html\n",
        "<img src=\"https://upload.wikimedia.org/wikipedia/commons/a/ab/Cherry_Lake_Stanislaus_National_Forest.jpg\"\n",
        "  alt=\"Cherry_Lake_Stanislaus_National_Forest\"\n",
        "  style=\"width:500px; height:400px;\">\n"
      ],
      "execution_count": null,
      "outputs": [
        {
          "output_type": "display_data",
          "data": {
            "text/html": [
              "<img src=\"https://upload.wikimedia.org/wikipedia/commons/a/ab/Cherry_Lake_Stanislaus_National_Forest.jpg\"\n",
              "  alt=\"Cherry_Lake_Stanislaus_National_Forest\"\n",
              "  style=\"width:500px; height:400px;\">"
            ],
            "text/plain": [
              "<IPython.core.display.HTML object>"
            ]
          },
          "metadata": {}
        }
      ]
    },
    {
      "cell_type": "markdown",
      "metadata": {
        "id": "mPQFutsWZ0SK"
      },
      "source": [
        "Okay, so we have a spatial problem. Now how do we solve it? The method we will use to operationalize our spatial optimization problem is mathematical programming.\n",
        "\n",
        "### **Introduction to mathematical programming**\n",
        "\n",
        "Mathematical programming or mathematical optimization applies mathematical models to solve problems for decision-making. It involves the selection and specification of some elements considering some criterion, from some set of available alternatives. Mathematical programming usually has the following form:\n",
        "\n",
        "$ \\textit{Maximize/Minimize} \\;\\;\\;\\; f(X_{1},X_{2},X_{3},...,X_{n-1},X_{n}) $\n",
        "\n",
        "$ \\textit{Subject to} \\;\\;\\;\\;\\;\\;\\;\\;\\;\\;\\;\\;\\;\\;\\;\\;\\;\\;\\;\\;\\;\\;\\;\\;   g_{1}(X_{1},X_{2},X_{3},...,X_{n-1},X_{n}) \\le b_{1} \\\\\n",
        "\\;\\;\\;\\;\\;\\;\\;\\;\\;\\;\\;\\;\\;\\;\\;\\;\\;\\;\\;\\;\\;\\;\\;\\;\\;\\;\\;\\;\\;\\;\\;\\;\\;\\;\\;\\;\\; g_{2}(X_{1},X_{2},X_{3},...,X_{n-1},X_{n}) \\le b_{2} \\\\\n",
        "\\;\\;\\;\\;\\;\\;\\;\\;\\;\\;\\;\\;\\;\\;\\;\\;\\;\\;\\;\\;\\;\\;\\;\\;\\;\\;\\;\\;\\;\\;\\;\\;\\;\\;\\;\\;\\; g_{3}(X_{1},X_{2},X_{3},...,X_{n-1},X_{n}) \\le b_{3} \\\\\n",
        "\\;\\;\\;\\;\\;\\;\\;\\;\\;\\;\\;\\;\\;\\;\\;\\;\\;\\;\\;\\;\\;\\;\\;\\;\\;\\;\\;\\;\\;\\;\\;\\;\\;\\;\\;\\;\\; g_{4}(X_{1},X_{2},X_{3},...,X_{n-1},X_{n}) \\le b_{4} \\\\\n",
        "\\;\\;\\;\\;\\;\\;\\;\\;\\;\\;\\;\\;\\;\\;\\;\\;\\;\\;\\;\\;\\;\\;\\;\\;\\;\\;\\;\\;\\;\\;\\;\\;\\;\\;\\;\\;\\; ... \\\\\n",
        "\\;\\;\\;\\;\\;\\;\\;\\;\\;\\;\\;\\;\\;\\;\\;\\;\\;\\;\\;\\;\\;\\;\\;\\;\\;\\;\\;\\;\\;\\;\\;\\;\\;\\;\\;\\; g_{m}(X_{1},X_{2},X_{3},...,X_{n-1},X_{n}) \\le b_{m} \\\\\n",
        "$\n",
        "\n",
        "Where $X_{i}, i=1, 2, 3, ..., n$ are decision variables, \n",
        "$f$ is the objective function measuring soluton quality, and we optimize $f$ to acquire the best solution. \n",
        "$g_{i}, i=1, 2, 3, ..., m$ are mathmatical function to help formalize constraints. \n",
        "$b_{i}, i=1, 2, 3, ..., m$ are constants to define constraints. \\\\\n",
        "\n",
        "\n"
      ]
    },
    {
      "cell_type": "markdown",
      "metadata": {
        "id": "9TCfkk8kZye5"
      },
      "source": [
        "Some **common pragramming problems** include$^{1, 2}$: \\\\\n",
        "\n",
        "\n",
        "*   Convex programming studies problems when the objective function $f$ is convex (minimization) or concave (maximization) and the constraint set $g_{i}, i=1, 2, 3, ..., m$ is convex.\n",
        "\n",
        "*   Linear programming (LP), a special case of convex programming, studies problems when the objective function $f$ is linear and the constraints $g_{i}, i=1, 2, 3, ..., m$ are specified using only linear equalities and inequalities.\n",
        "\n",
        "*   Integer programming studies linear programing problems where some or all variables are constrained to be integer values.\n",
        "\n",
        "*   Quadratic programming allows the objective function $f$ to be quadratic, while constraints $g_{i}, i=1, 2, 3, ..., m$  must be linear.\n",
        "\n",
        "\n",
        "\n",
        "**Solutions to mathematical programming** consist of two types:\n",
        "\n",
        "\n",
        "*   Exact algorithm, which solves for the optimal solution to a problem with proven optimality.\n",
        "*   Heuristic algorithm, which consists of a bunch of steps to retrive good solutions in a fast manner. Optimality is not guaranteed.\n",
        "\n",
        "***"
      ]
    },
    {
      "cell_type": "markdown",
      "metadata": {
        "id": "uvPtpDALd_sG"
      },
      "source": [
        "## **PART II**: How do I formalize a spatial optimization problem with specific problem details?\n",
        "\n",
        "_Led by Su Burtner._\n",
        "\n",
        "### **Develop an LP for the Stanislaus National Forest**\n",
        "\n",
        "The following example illustrates the formalization of our spatial optimization problem with integer requirements (1 indicates a land unit is selected, 0 indicates it is not). Recalling the knapsack problem that we talked about previously, let us assume that that the US Forest Service is planning to treat 100 acres (threshold capacity) of the Stanislaus National Forest to decrease wildfire risk. The selected units should be those that maximize the benefit or resilience to wildfire while the threshold capacity is not surpassed. This integer programming problem can be formulated as follows\n",
        "\n",
        "$ \\textit{Maximize} \\;\\;\\;\\; \\Sigma_{i} \\beta_{i} x_{i} $\n",
        "\n",
        "$ \\textit{Subject to} \\;\\;\\;\\, \\alpha_{i} x_{i} \\leq T $\n",
        "\n",
        "$ \\;\\;\\;\\;\\;\\;\\;\\;\\;\\;\\;\\;\\;\\;\\;\\;\\, x_{i} = {0, 1} \\; \\forall i $\n",
        "\n",
        "$ \\textrm{where} $\n",
        "\n",
        "$ \\;\\;\\;\\;\\; i \\textrm{ = index of planning units}$\n",
        "\n",
        "$ \\;\\;\\;\\;\\; \\beta_{i} \\textrm{ = benefit of selecting planning unit } i$\n",
        "\n",
        "$ \\;\\;\\;\\;\\; \\alpha_{i} \\textrm{ = contribution of planning unit } i \\textrm{ to threshold capacity}$\n",
        "\n",
        "$\\;\\;\\;\\;\\; T \\textrm{ = threshold capacity}$\n",
        "\n",
        "$ \\textrm{Decision variables: }$\n",
        "\n",
        "$ \\;\\;\\;\\;\\; x_{i} = 1 \\textrm{ if planning unit } i \\textrm{ is selected for intended use; } 0 \\textrm{ if not}$                                                                      \n",
        "<br>\n",
        "\n",
        "Great, now that we have mathematically formalized our problem, how do go about solving it? We need a solver, and a way to run the solver.      "
      ]
    },
    {
      "cell_type": "markdown",
      "metadata": {
        "id": "maC2rfmdgxG2"
      },
      "source": [
        "### **Introduction to optimization solvers**\n",
        "\n",
        "_Led by Seonga Cho._\n",
        "\n",
        "Optimization solvers take an instance of a model as input, apply one or more solution methods (such as simplex), and return the results.\n",
        "\n",
        "\n",
        "Commercial Solvers | Open Source Solvers\n",
        "--- | ---\n",
        "Quite expensive, but.. <br> - with free license for educational purposes and academic research <br> - free size-limited student or demo versions| source code freely available \n",
        "Usually, all Major Problem Types can be solved <br> (e.g. LP, MILP, QP, MIQP, QCP, MIQCP)| usually a single type of problem, <br> and one solution method are used \n",
        "\n",
        "<br>\n",
        "\n",
        "Commercial solvers are developed with considerable effort and are usually more robust and reliable. They often are quite expensive. Some commercial systems are available with free academic license, under reasonable conditions for educational purposes and academic research. Many offer free size-limited student (or demo) versions for experimentation with small problem instances.  \n",
        "\n",
        "- [Gurobi](https://www.gurobi.com/products/gurobi-optimizer/)\n",
        "- [Xpress](https://www.fico.com/en/products/fico-xpress-optimization)\n",
        "- [Lingo](https://www.lindo.com/index.php/products/lingo-and-optimization-modeling?catid=89&id=88:powerful-lingo-solvers)\n",
        "- ...\n",
        "\n",
        "Open source solvers make their source code freely available. Many of these are deployed in the [COIN-OR repository](https://www.coin-or.org/). Many of the open-source solvers are also available as precompiled binaries for the more popular platforms. \n",
        "\n",
        "\n",
        "- [SYMPHONY](https://projects.coin-or.org/SYMPHONY#:~:text=SYMPHONY%20is%20an%20open%2Dsource,using%20a%20command%2Dline%20interface.): a COIN_OR project for MILP problems\n",
        "- [cvxpy](https://www.cvxpy.org/): a Python library for Convex problems \n",
        "- ...\n",
        "\n"
      ]
    },
    {
      "cell_type": "markdown",
      "metadata": {
        "id": "WfTqOQYtqubN"
      },
      "source": [
        "### **Integration of a solver into a Jupyter notebook**\n",
        "\n",
        "_Led by Su Burtner._\n",
        "\n",
        "For this tutorial, we will be using the Xpress solver to implement our problem. First, let's install the Xpress solver and Geopandas, to read in our spatial data."
      ]
    },
    {
      "cell_type": "code",
      "metadata": {
        "colab": {
          "base_uri": "https://localhost:8080/"
        },
        "id": "wqCvojKWoquo",
        "outputId": "342ac6c1-49fb-4f6b-d719-7626e011db43"
      },
      "source": [
        "# INSTALL xpress solver\n",
        "# Other installations (such as from conda) can be used, this is just the simpliest\n",
        "!pip install xpress\n",
        "\n",
        "# Install Geopandas\n",
        "!pip install git+git://github.com/geopandas/geopandas.git"
      ],
      "execution_count": null,
      "outputs": [
        {
          "output_type": "stream",
          "name": "stdout",
          "text": [
            "Collecting xpress\n",
            "  Downloading xpress-8.13.1-cp37-cp37m-manylinux1_x86_64.whl (65.6 MB)\n",
            "\u001b[K     |████████████████████████████████| 65.6 MB 13 kB/s \n",
            "\u001b[?25hRequirement already satisfied: numpy>=1.8 in /usr/local/lib/python3.7/dist-packages (from xpress) (1.19.5)\n",
            "Installing collected packages: xpress\n",
            "Successfully installed xpress-8.13.1\n",
            "Collecting git+git://github.com/geopandas/geopandas.git\n",
            "  Cloning git://github.com/geopandas/geopandas.git to /tmp/pip-req-build-p53_x_kj\n",
            "  Running command git clone -q git://github.com/geopandas/geopandas.git /tmp/pip-req-build-p53_x_kj\n",
            "Requirement already satisfied: pandas>=0.25.0 in /usr/local/lib/python3.7/dist-packages (from geopandas==0.10.2+16.gee8adfb) (1.1.5)\n",
            "Requirement already satisfied: shapely>=1.6 in /usr/local/lib/python3.7/dist-packages (from geopandas==0.10.2+16.gee8adfb) (1.8.0)\n",
            "Collecting fiona>=1.8\n",
            "  Downloading Fiona-1.8.20-cp37-cp37m-manylinux1_x86_64.whl (15.4 MB)\n",
            "\u001b[K     |████████████████████████████████| 15.4 MB 6.9 MB/s \n",
            "\u001b[?25hCollecting pyproj>=2.2.0\n",
            "  Downloading pyproj-3.2.1-cp37-cp37m-manylinux2010_x86_64.whl (6.3 MB)\n",
            "\u001b[K     |████████████████████████████████| 6.3 MB 34.9 MB/s \n",
            "\u001b[?25hCollecting munch\n",
            "  Downloading munch-2.5.0-py2.py3-none-any.whl (10 kB)\n",
            "Collecting cligj>=0.5\n",
            "  Downloading cligj-0.7.2-py3-none-any.whl (7.1 kB)\n",
            "Requirement already satisfied: attrs>=17 in /usr/local/lib/python3.7/dist-packages (from fiona>=1.8->geopandas==0.10.2+16.gee8adfb) (21.2.0)\n",
            "Requirement already satisfied: click>=4.0 in /usr/local/lib/python3.7/dist-packages (from fiona>=1.8->geopandas==0.10.2+16.gee8adfb) (7.1.2)\n",
            "Requirement already satisfied: certifi in /usr/local/lib/python3.7/dist-packages (from fiona>=1.8->geopandas==0.10.2+16.gee8adfb) (2021.10.8)\n",
            "Requirement already satisfied: six>=1.7 in /usr/local/lib/python3.7/dist-packages (from fiona>=1.8->geopandas==0.10.2+16.gee8adfb) (1.15.0)\n",
            "Requirement already satisfied: setuptools in /usr/local/lib/python3.7/dist-packages (from fiona>=1.8->geopandas==0.10.2+16.gee8adfb) (57.4.0)\n",
            "Collecting click-plugins>=1.0\n",
            "  Downloading click_plugins-1.1.1-py2.py3-none-any.whl (7.5 kB)\n",
            "Requirement already satisfied: numpy>=1.15.4 in /usr/local/lib/python3.7/dist-packages (from pandas>=0.25.0->geopandas==0.10.2+16.gee8adfb) (1.19.5)\n",
            "Requirement already satisfied: pytz>=2017.2 in /usr/local/lib/python3.7/dist-packages (from pandas>=0.25.0->geopandas==0.10.2+16.gee8adfb) (2018.9)\n",
            "Requirement already satisfied: python-dateutil>=2.7.3 in /usr/local/lib/python3.7/dist-packages (from pandas>=0.25.0->geopandas==0.10.2+16.gee8adfb) (2.8.2)\n",
            "Building wheels for collected packages: geopandas\n",
            "  Building wheel for geopandas (setup.py) ... \u001b[?25l\u001b[?25hdone\n",
            "  Created wheel for geopandas: filename=geopandas-0.10.2+16.gee8adfb-py2.py3-none-any.whl size=1031775 sha256=4ba2747ddc80706f3f4965528a1f0a7f468675bc1058f8f9c1bb56fb8366ff91\n",
            "  Stored in directory: /tmp/pip-ephem-wheel-cache-ab92fmij/wheels/cf/3e/0b/6475054094c2b1ea054158ac1fdcf749fb92f5b512377e4cf8\n",
            "Successfully built geopandas\n",
            "Installing collected packages: munch, cligj, click-plugins, pyproj, fiona, geopandas\n",
            "Successfully installed click-plugins-1.1.1 cligj-0.7.2 fiona-1.8.20 geopandas-0.10.2+16.gee8adfb munch-2.5.0 pyproj-3.2.1\n"
          ]
        }
      ]
    },
    {
      "cell_type": "markdown",
      "metadata": {
        "id": "6hfipH9TpZPL"
      },
      "source": [
        "Now, import the necessary Python libraries. You get a warning about using an Xpress community license, and that is fine! If your particular modeling scenario calls for more functionality, you may need to upgrade to a different license. More information on FICO© Xpress for Python here: https://www.fico.com/fico-xpress-optimization/docs/latest/solver/optimizer/python/HTML/chIntro_sec_secInstall.html, and the link to the reference manual here: https://www.msi-jp.com/xpress/learning/square/01-python-interface.pdf."
      ]
    },
    {
      "cell_type": "code",
      "metadata": {
        "id": "eoIqJloWodZY",
        "colab": {
          "base_uri": "https://localhost:8080/"
        },
        "outputId": "ec032887-e81b-403c-d77a-3b9c0e1c6d4a"
      },
      "source": [
        "import xpress as xp\n",
        "import pandas as pd\n",
        "import geopandas as gpd\n",
        "print(gpd.__version__)"
      ],
      "execution_count": null,
      "outputs": [
        {
          "output_type": "stream",
          "name": "stdout",
          "text": [
            "Using the Community license in this session. If you have a full Xpress license, first set the XPAUTH_PATH environment variable to the full path to your license file, xpauth.xpr, and then restart Python. If you want to use the FICO Community license and no longer want to see this message, set the XPAUTH_PATH environment variable to: /usr/local/lib/python3.7/dist-packages/xpress/license/community-xpauth.xpr\n",
            "NB: setting XPAUTH_PATH will also affect any other Xpress products installed on your system.\n",
            "0.10.2+16.gee8adfb\n"
          ]
        }
      ]
    },
    {
      "cell_type": "markdown",
      "metadata": {
        "id": "GziFgKZLj7r7"
      },
      "source": [
        "We can run command line tools to better understand our Python environment. Below, the `ls` command will list the files in the given directory."
      ]
    },
    {
      "cell_type": "code",
      "metadata": {
        "id": "mN_71HR8-LTL",
        "colab": {
          "base_uri": "https://localhost:8080/"
        },
        "outputId": "5aa94a45-c3aa-424f-ab01-399dfa5868c7"
      },
      "source": [
        "!ls"
      ],
      "execution_count": null,
      "outputs": [
        {
          "output_type": "stream",
          "name": "stdout",
          "text": [
            "sample_data\n"
          ]
        }
      ]
    },
    {
      "cell_type": "markdown",
      "metadata": {
        "id": "Hd9Oym3ADK-g"
      },
      "source": [
        "The output should be `sample_data`, which is the sample data that comes with a Colab notebook, demonstrating that we haven't imported our data yet! Let's do that now."
      ]
    },
    {
      "cell_type": "code",
      "metadata": {
        "colab": {
          "base_uri": "https://localhost:8080/"
        },
        "id": "_8Rg4b-ZNg_r",
        "outputId": "a454ec92-d180-4fd0-edf0-b3c8b45e6ffe"
      },
      "source": [
        "!wget https://raw.githubusercontent.com/sburtner/SDSS21/main/knapsack_example.geojson"
      ],
      "execution_count": null,
      "outputs": [
        {
          "output_type": "stream",
          "name": "stdout",
          "text": [
            "--2021-12-13 14:21:16--  https://raw.githubusercontent.com/sburtner/SDSS21/main/knapsack_example.geojson\n",
            "Resolving raw.githubusercontent.com (raw.githubusercontent.com)... 185.199.108.133, 185.199.109.133, 185.199.110.133, ...\n",
            "Connecting to raw.githubusercontent.com (raw.githubusercontent.com)|185.199.108.133|:443... connected.\n",
            "HTTP request sent, awaiting response... 200 OK\n",
            "Length: 22469 (22K) [text/plain]\n",
            "Saving to: ‘knapsack_example.geojson’\n",
            "\n",
            "\rknapsack_example.ge   0%[                    ]       0  --.-KB/s               \rknapsack_example.ge 100%[===================>]  21.94K  --.-KB/s    in 0.001s  \n",
            "\n",
            "2021-12-13 14:21:17 (33.2 MB/s) - ‘knapsack_example.geojson’ saved [22469/22469]\n",
            "\n"
          ]
        }
      ]
    },
    {
      "cell_type": "code",
      "metadata": {
        "colab": {
          "base_uri": "https://localhost:8080/"
        },
        "id": "HV_h1s9DNjpx",
        "outputId": "c3d33969-d7b6-4772-c47c-7a8372044c8e"
      },
      "source": [
        "!ls"
      ],
      "execution_count": null,
      "outputs": [
        {
          "output_type": "stream",
          "name": "stdout",
          "text": [
            "knapsack_example.geojson  sample_data\n"
          ]
        }
      ]
    },
    {
      "cell_type": "markdown",
      "metadata": {
        "id": "N7FNjseNDqLi"
      },
      "source": [
        "After running `ls` again, we can now see that the data for our problem, `knapsack_example.geojson`, has been imported! Note, if you are working with a shapefile, it would be a similar process to bring in the data with other Python methods. Geojson offers the convenience of containing the projection and other shape format information all in one file.\n",
        "\n",
        "\n",
        "Let's read in the data and see what it looks like."
      ]
    },
    {
      "cell_type": "code",
      "metadata": {
        "colab": {
          "base_uri": "https://localhost:8080/",
          "height": 224
        },
        "id": "yxGtZAys_1nC",
        "outputId": "07c2aaea-e2b0-425d-d8b4-abdd91e66082"
      },
      "source": [
        "gdf = gpd.read_file('knapsack_example.geojson')\n",
        "print(gdf.shape)\n",
        "gdf.head()"
      ],
      "execution_count": null,
      "outputs": [
        {
          "output_type": "stream",
          "name": "stdout",
          "text": [
            "(16, 8)\n"
          ]
        },
        {
          "output_type": "execute_result",
          "data": {
            "text/html": [
              "<div>\n",
              "<style scoped>\n",
              "    .dataframe tbody tr th:only-of-type {\n",
              "        vertical-align: middle;\n",
              "    }\n",
              "\n",
              "    .dataframe tbody tr th {\n",
              "        vertical-align: top;\n",
              "    }\n",
              "\n",
              "    .dataframe thead th {\n",
              "        text-align: right;\n",
              "    }\n",
              "</style>\n",
              "<table border=\"1\" class=\"dataframe\">\n",
              "  <thead>\n",
              "    <tr style=\"text-align: right;\">\n",
              "      <th></th>\n",
              "      <th>CSO_depart</th>\n",
              "      <th>CSOterr_ID</th>\n",
              "      <th>CNSM_NoMGT</th>\n",
              "      <th>Acres</th>\n",
              "      <th>LMU_ID</th>\n",
              "      <th>res_d_STND</th>\n",
              "      <th>res_d_SPM</th>\n",
              "      <th>geometry</th>\n",
              "    </tr>\n",
              "  </thead>\n",
              "  <tbody>\n",
              "    <tr>\n",
              "      <th>0</th>\n",
              "      <td>0.833334</td>\n",
              "      <td>164</td>\n",
              "      <td>172765.0</td>\n",
              "      <td>5.337479</td>\n",
              "      <td>35564</td>\n",
              "      <td>0.921725</td>\n",
              "      <td>14.163780</td>\n",
              "      <td>MULTIPOLYGON (((757755.000 4243875.000, 757725...</td>\n",
              "    </tr>\n",
              "    <tr>\n",
              "      <th>1</th>\n",
              "      <td>0.565610</td>\n",
              "      <td>164</td>\n",
              "      <td>1757300.0</td>\n",
              "      <td>27.354568</td>\n",
              "      <td>36492</td>\n",
              "      <td>1.304450</td>\n",
              "      <td>20.044963</td>\n",
              "      <td>MULTIPOLYGON (((756915.000 4243875.000, 756975...</td>\n",
              "    </tr>\n",
              "    <tr>\n",
              "      <th>2</th>\n",
              "      <td>0.585455</td>\n",
              "      <td>164</td>\n",
              "      <td>3106670.0</td>\n",
              "      <td>48.926867</td>\n",
              "      <td>36493</td>\n",
              "      <td>1.220160</td>\n",
              "      <td>18.749712</td>\n",
              "      <td>MULTIPOLYGON (((756735.000 4243545.000, 756765...</td>\n",
              "    </tr>\n",
              "    <tr>\n",
              "      <th>3</th>\n",
              "      <td>0.590000</td>\n",
              "      <td>164</td>\n",
              "      <td>1042850.0</td>\n",
              "      <td>15.790036</td>\n",
              "      <td>36494</td>\n",
              "      <td>0.687985</td>\n",
              "      <td>10.571991</td>\n",
              "      <td>MULTIPOLYGON (((756465.000 4243695.000, 756435...</td>\n",
              "    </tr>\n",
              "    <tr>\n",
              "      <th>4</th>\n",
              "      <td>0.652973</td>\n",
              "      <td>164</td>\n",
              "      <td>435944.0</td>\n",
              "      <td>8.228611</td>\n",
              "      <td>36964</td>\n",
              "      <td>1.695560</td>\n",
              "      <td>26.054994</td>\n",
              "      <td>MULTIPOLYGON (((757425.000 4243665.000, 757425...</td>\n",
              "    </tr>\n",
              "  </tbody>\n",
              "</table>\n",
              "</div>"
            ],
            "text/plain": [
              "   CSO_depart  ...                                           geometry\n",
              "0    0.833334  ...  MULTIPOLYGON (((757755.000 4243875.000, 757725...\n",
              "1    0.565610  ...  MULTIPOLYGON (((756915.000 4243875.000, 756975...\n",
              "2    0.585455  ...  MULTIPOLYGON (((756735.000 4243545.000, 756765...\n",
              "3    0.590000  ...  MULTIPOLYGON (((756465.000 4243695.000, 756435...\n",
              "4    0.652973  ...  MULTIPOLYGON (((757425.000 4243665.000, 757425...\n",
              "\n",
              "[5 rows x 8 columns]"
            ]
          },
          "metadata": {},
          "execution_count": 15
        }
      ]
    },
    {
      "cell_type": "markdown",
      "metadata": {
        "id": "77kzjwwUEFmg"
      },
      "source": [
        "Awesome, that worked. We won't use some of the columns, but the ones we will use include:\n",
        "\n",
        "* `Acres` - necsesary for summing our capacity\n",
        "* `LMU_ID` - the identification value for each land unit\n",
        "*  `res_d_SPM` - an aggregate measure of the benefit of the land unit\n",
        "\n",
        "<br>\n",
        "\n",
        "Now we can create our linear program (LP). Let's start by making the decision variables."
      ]
    },
    {
      "cell_type": "code",
      "metadata": {
        "colab": {
          "base_uri": "https://localhost:8080/"
        },
        "id": "rEDvAcSmsLFM",
        "outputId": "a783c697-d5f8-4b4f-c8f4-2393f95452b5"
      },
      "source": [
        "# CREATE DECISON VARIABLES\n",
        "x_i = [xp.var(i, vartype=xp.binary) for i in gdf['LMU_ID'].astype(str)]\n",
        "\n",
        "print(\"The following decision variables have been created for each LMU ID:\")\n",
        "print([x.name for x in x_i])"
      ],
      "execution_count": null,
      "outputs": [
        {
          "output_type": "stream",
          "name": "stdout",
          "text": [
            "The following decision variables have been created for each LMU ID:\n",
            "['35564', '36492', '36493', '36494', '36964', '36969', '37505', '37507', '37508', '37509', '37510', '37511', '38060', '38061', '38062', '38063']\n"
          ]
        }
      ]
    },
    {
      "cell_type": "markdown",
      "metadata": {
        "id": "s2ymxukEETC2"
      },
      "source": [
        "Next, we will create our objective function."
      ]
    },
    {
      "cell_type": "code",
      "metadata": {
        "colab": {
          "base_uri": "https://localhost:8080/"
        },
        "id": "oYATRcreESCc",
        "outputId": "01401e5d-0f1b-468d-f7d5-30dd28571c10"
      },
      "source": [
        "# CREATE THE OBJECTIVE\n",
        "Beta_i = gdf['res_d_SPM']\n",
        "Z = xp.Sum(Beta_i * x_i)\n",
        "\n",
        "print(\"The following objective function has been created:\")\n",
        "print(Z)"
      ],
      "execution_count": null,
      "outputs": [
        {
          "output_type": "stream",
          "name": "stdout",
          "text": [
            "The following objective function has been created:\n",
            " 14.1638 35564 +20.045 36492 +18.7497 36493 +10.572 36494 +26.055 36964 +11.8661 36969 +22.3842 37505 +25.3076 37507 +26.7496 37508 +26.5974 37509 +14.5147 37510 +15.4938 37511 +20.6054 38060 +20.6393 38061 +16.7596 38062 +16.7269 38063\n"
          ]
        }
      ]
    },
    {
      "cell_type": "markdown",
      "metadata": {
        "id": "2R2jxty3EV0k"
      },
      "source": [
        "Next, we will create the constraint."
      ]
    },
    {
      "cell_type": "code",
      "metadata": {
        "colab": {
          "base_uri": "https://localhost:8080/"
        },
        "id": "jo1nycIQEbE7",
        "outputId": "18bf09cb-bc8f-4348-cf08-00ed75f9270c"
      },
      "source": [
        "# CREATE THE CONSTRAINT(S)\n",
        "alpha_i = gdf['Acres']\n",
        "c1 = xp.Sum(alpha_i * x_i) <= 100\n",
        "\n",
        "print(\"The following constraint has been created:\")\n",
        "print(c1.body)"
      ],
      "execution_count": null,
      "outputs": [
        {
          "output_type": "stream",
          "name": "stdout",
          "text": [
            "The following constraint has been created:\n",
            " 5.33748 35564 +27.3546 36492 +48.9269 36493 +15.79 36494 +8.22861 36964 +5.33748 36969 +22.6843 37505 +18.014 37507 +20.4603 37508 +23.3515 37509 +20.2379 37510 +2.66874 37511 +6.89424 38060 +19.7931 38061 +19.3484 38062 +30.6905 38063\n"
          ]
        }
      ]
    },
    {
      "cell_type": "markdown",
      "metadata": {
        "id": "0v3fdC6MEdCw"
      },
      "source": [
        "Finally, we will create the problem itself, and add all of our decision variables and constraint(s)."
      ]
    },
    {
      "cell_type": "code",
      "metadata": {
        "id": "erusTcJvElBY",
        "colab": {
          "base_uri": "https://localhost:8080/"
        },
        "outputId": "97c22c38-cad4-499d-d3f3-2e6911a6c34d"
      },
      "source": [
        "# CREATE THE PROBLEM\n",
        "p = xp.problem()\n",
        "\n",
        "# ADD THE DECISION VARIABLES\n",
        "p.addVariable(x_i)\n",
        "\n",
        "# ADD CONSTRAINTS\n",
        "p.addConstraint(c1)\n",
        "# Already ensured x_i is binary in its instantiation"
      ],
      "execution_count": null,
      "outputs": [
        {
          "output_type": "stream",
          "name": "stdout",
          "text": [
            "\n"
          ]
        }
      ]
    },
    {
      "cell_type": "markdown",
      "metadata": {
        "id": "J6HlZ1-VErQM"
      },
      "source": [
        "We are now ready to solve the problem!"
      ]
    },
    {
      "cell_type": "code",
      "metadata": {
        "colab": {
          "base_uri": "https://localhost:8080/"
        },
        "id": "AMVVPwtDEtnr",
        "outputId": "5176354c-c1bd-4ff1-c209-62e90c35f9f8"
      },
      "source": [
        "# SOLVE THE PROBLEM\n",
        "p.setObjective(Z, sense=xp.maximize)\n",
        "p.solve()"
      ],
      "execution_count": null,
      "outputs": [
        {
          "output_type": "stream",
          "name": "stdout",
          "text": [
            "FICO Xpress v8.13.1, Community, solve started 14:30:02, Dec 13, 2021\n",
            "Heap usage: 334KB (peak 334KB, 288KB system)\n",
            "Maximizing MILP noname using up to 2 threads, with these control settings:\n",
            "OUTPUTLOG = 1\n",
            "Original problem has:\n",
            "         1 rows           16 cols           16 elements        16 globals\n",
            "Presolved problem has:\n",
            "         1 rows           16 cols           16 elements        16 globals\n",
            "Presolve finished in 0 seconds\n",
            "Heap usage: 362KB (peak 366KB, 290KB system)\n",
            "\n",
            "Coefficient range                    original                 solved        \n",
            "  Coefficients   [min,max] : [ 2.67e+00,  4.89e+01] / [ 8.34e-02,  1.53e+00]\n",
            "  RHS and bounds [min,max] : [ 1.00e+00,  1.00e+02] / [ 1.00e+00,  3.12e+00]\n",
            "  Objective      [min,max] : [ 1.06e+01,  2.67e+01] / [ 1.06e+01,  2.67e+01]\n",
            "Autoscaling applied standard scaling\n",
            "\n",
            "Will try to keep branch and bound tree memory usage below 11.3GB\n",
            " *** Solution found:      .000000   Time:   0    Heuristic: T ***\n",
            " *** Solution found:   104.739705   Time:   0    Heuristic: e ***\n",
            "Starting concurrent solve with dual (1 thread)\n",
            "\n",
            " Concurrent-Solve,   0s\n",
            "            Dual        \n",
            "    objective   dual inf\n",
            " D  176.96135   .0000000\n",
            "------- optimal --------\n",
            "Concurrent statistics:\n",
            "      Dual: 1 simplex iterations, 0.00s\n",
            "Optimal solution found\n",
            " \n",
            "   Its         Obj Value      S   Ninf  Nneg   Sum Dual Inf  Time\n",
            "     1        176.961353      D      0     0        .000000     0\n",
            "Dual solved problem\n",
            "  1 simplex iterations in 0.00 seconds at time 0\n",
            "\n",
            "Final objective                       : 1.769613529197185e+02\n",
            "  Max primal violation      (abs/rel) :       0.0 /       0.0\n",
            "  Max dual violation        (abs/rel) :       0.0 /       0.0\n",
            "  Max complementarity viol. (abs/rel) :       0.0 /       0.0\n",
            "\n",
            "Starting root cutting & heuristics\n",
            " \n",
            " Its Type    BestSoln    BestBound   Sols    Add    Del     Gap     GInf   Time\n",
            "a          166.838660   176.961353      3                  5.72%       0      0\n",
            "\n",
            "Performing root presolve...\n",
            "\n",
            "Reduced problem has:       1 rows      11 columns        11 elements\n",
            "Presolve dropped   :       0 rows       5 columns         5 elements\n",
            "Will try to keep branch and bound tree memory usage below 11.3GB\n",
            " \n",
            "   Its         Obj Value      S   Ninf  Nneg   Sum Dual Inf  Time\n",
            "     2        176.810476      D      0     0        .000000     0\n",
            "Optimal solution found\n",
            "Dual solved problem\n",
            "  2 simplex iterations in 0.00 seconds at time 0\n",
            "\n",
            "Final objective                       : 1.768104758324006e+02\n",
            "  Max primal violation      (abs/rel) :       0.0 /       0.0\n",
            "  Max dual violation        (abs/rel) :       0.0 /       0.0\n",
            "  Max complementarity viol. (abs/rel) :       0.0 /       0.0\n",
            "\n",
            "Starting root cutting & heuristics\n",
            " \n",
            " Its Type    BestSoln    BestBound   Sols    Add    Del     Gap     GInf   Time\n",
            "   1  K    166.838660   169.804364      3      1      0    1.75%       1      0\n",
            " \n",
            "Cuts in the matrix         : 1\n",
            "Cut elements in the matrix : 11\n",
            "\n",
            "Performing root presolve...\n",
            "\n",
            "Reduced problem has:       2 rows       5 columns        10 elements\n",
            "Presolve dropped   :       0 rows       6 columns        12 elements\n",
            "Presolve tightened :         5 elements\n",
            "Will try to keep branch and bound tree memory usage below 11.3GB\n",
            " \n",
            "   Its         Obj Value      S   Ninf  Nneg   Sum Dual Inf  Time\n",
            "     4        170.072327      D      0     0        .000000     0\n",
            "Optimal solution found\n",
            "Dual solved problem\n",
            "  4 simplex iterations in 0.00 seconds at time 0\n",
            "\n",
            "Final objective                       : 1.700723269425466e+02\n",
            "  Max primal violation      (abs/rel) :       0.0 /       0.0\n",
            "  Max dual violation        (abs/rel) :       0.0 /       0.0\n",
            "  Max complementarity viol. (abs/rel) :       0.0 /       0.0\n",
            "\n",
            "Starting root cutting & heuristics\n",
            " \n",
            " Its Type    BestSoln    BestBound   Sols    Add    Del     Gap     GInf   Time\n",
            " *** Search completed ***\n",
            "Uncrunching matrix\n",
            "Final MIP objective                   : 1.668386599999999e+02\n",
            "Final MIP bound                       : 1.668388369613529e+02\n",
            "  Solution time / primaldual integral :         0s/ 13.862874%\n",
            "  Number of solutions found / nodes   :         3 /         1\n",
            "  Max primal violation      (abs/rel) :       0.0 /       0.0\n",
            "  Max integer violation     (abs    ) :       0.0\n"
          ]
        }
      ]
    },
    {
      "cell_type": "markdown",
      "metadata": {
        "id": "SSR2CLIAF43W"
      },
      "source": [
        "What was the total benefit derived?"
      ]
    },
    {
      "cell_type": "code",
      "metadata": {
        "colab": {
          "base_uri": "https://localhost:8080/"
        },
        "id": "4QXCnaq0F7J5",
        "outputId": "9b84025c-054a-4d60-8fc9-05872762315f"
      },
      "source": [
        "print(\"The total benefit derived is:\")\n",
        "print(p.getObjVal())"
      ],
      "execution_count": null,
      "outputs": [
        {
          "output_type": "stream",
          "name": "stdout",
          "text": [
            "The total benefit derived is:\n",
            "166.83865999999995\n"
          ]
        }
      ]
    },
    {
      "cell_type": "code",
      "metadata": {
        "colab": {
          "base_uri": "https://localhost:8080/",
          "height": 39
        },
        "id": "YvRo-FSrrxKN",
        "outputId": "c10ea986-1282-4e9a-b14d-11ca7efd3240"
      },
      "source": [
        "%%html\n",
        "<marquee style='width: 30%; color: blue;'><b> Pause! Pause! Pause! Pause! Pause! Pause! Pause! Pause! Pause! Pause! Pause! Pause! Pause! Pause! Pause! Pause! Pause! Pause! Pause! Pause! Pause! Pause!</b></marquee>"
      ],
      "execution_count": null,
      "outputs": [
        {
          "output_type": "display_data",
          "data": {
            "text/html": [
              "<marquee style='width: 30%; color: blue;'><b> Pause! Pause! Pause! Pause! Pause! Pause! Pause! Pause! Pause! Pause! Pause! Pause! Pause! Pause! Pause! Pause! Pause! Pause! Pause! Pause! Pause! Pause!</b></marquee>"
            ],
            "text/plain": [
              "<IPython.core.display.HTML object>"
            ]
          },
          "metadata": {}
        }
      ]
    },
    {
      "cell_type": "markdown",
      "metadata": {
        "id": "i-8LNAMlryDC"
      },
      "source": [
        "Before we jump ahead to visualizing our problem solutions, let's take some time to talk about other extensions and application areas.\n",
        "\n",
        "### **Bi or multi-objective extensions**\n",
        "\n",
        "_Led by Seonga Cho._\n",
        "\n",
        "Most of the real-world problems are based on multiple objectives. The multi-objective optimization started from this inherent characteristics of real-world problems. The optimization problem has been extended through the inclusion of multiple objectives in one optimization problem. And one of the important characteristics is that these multiple objectives cannot be combined or integrated as one objective. For example, (1) protecting property and (2) protecting people can be two major objectives (Church and Murray, 2018) in fire protection services. And most real-world problem contains a complicated relationship between multiple objectives like the example. \n",
        "\n",
        "![mo_graph.png](https://raw.githubusercontent.com/sburtner/SDSS21/main/tradeoff_curve.png)\n",
        "\n",
        "As shown above, the optimal solution of two objectives cannot be achieved at the same time. The result of the multi-objective optimization problem is usually visualized as a Pareto frontier. The graph below shows that there is a trade-off relationship between (1) covered property and (2) covered people. As a result, the non-dominated solution sets from all of the solutions are called a Pareto frontier.\n",
        "\n",
        "\n",
        "### **Other application areas**\n",
        "\n",
        "The model we've been discussing is spatial, because we're considering units in space, but there are lots of other spatial relationships we could consider. For example, selected units could need to be contiguous (so the selection is a patch). We could also select several patches (Murray et al., in revision).\n",
        "\n",
        "![patch.png](https://raw.githubusercontent.com/sburtner/SDSS21/main/patch.png)\n",
        "\n",
        "We could prefer (or require) that selections be near each other or dispersed. For example, if undesirable facilities are being sited, we may want to ensure that they are spread out and not clustered in a single area (Murray et al., 2005). Alternatively, if there are spillover benefits to facility siting or location treatment, neighboring units may not need to be treated, as in the case of some wildfire mitigation treatments.\n",
        "\n",
        "![fire.png](https://raw.githubusercontent.com/sburtner/SDSS21/main/fire.png)\n",
        "\n",
        "\n",
        "All of these spatial relationships (and more!) can be encouraged (via the objective function) or required (via constraints).\n",
        "\n",
        "We don't have time to explore these method extensions and other application areas, that was just a taste of what you can do with spatial optimization! Okay, now let's get back to visualizing our problem solutions.\n",
        "\n",
        "***"
      ]
    },
    {
      "cell_type": "markdown",
      "metadata": {
        "id": "Awzp-mQPuAap"
      },
      "source": [
        "## **PART III**: Generate and visualize results\n",
        "\n",
        "_Led by Su Burtner._\n",
        "\n",
        "We have run the Xpress solver to get the land units that will maximize benefit without going over capacity, but we need to know which ones they are so we can map them and visualize the selections simultaneously."
      ]
    },
    {
      "cell_type": "markdown",
      "source": [
        "Once the optimal solutions have been identified we can extract those from our solver and plot those on a map. Here is a quick workflow: \n",
        "\n",
        "1. Extract the LMU_IDs for the parcels where $x_i=1$ (denotes selected parcels); \n",
        "2. Subset the original geopandas dataframe with selected LMU_ID; \n",
        "3. Plot this data on a map using Geopandas plotting functionality.  "
      ],
      "metadata": {
        "id": "_UkwSENWp9pq"
      }
    },
    {
      "cell_type": "markdown",
      "source": [
        "### __Get solutions__"
      ],
      "metadata": {
        "id": "a8h2zcHvrATM"
      }
    },
    {
      "cell_type": "code",
      "metadata": {
        "colab": {
          "base_uri": "https://localhost:8080/"
        },
        "id": "uqBchYksGqeg",
        "outputId": "b69a9fe5-b98b-4b4c-fefb-fce9bd90617d"
      },
      "source": [
        "# GET SOLUTIONS\n",
        "var_solutions = [x.name for x in x_i if p.getSolution(x) == 1]\n",
        "\n",
        "print(\"The selected LMU_IDs are:\")\n",
        "print(var_solutions)"
      ],
      "execution_count": null,
      "outputs": [
        {
          "output_type": "stream",
          "name": "stdout",
          "text": [
            "The selected LMU_IDs are:\n",
            "['35564', '36964', '36969', '37507', '37508', '37509', '37511', '38060']\n"
          ]
        }
      ]
    },
    {
      "cell_type": "markdown",
      "metadata": {
        "id": "ET_heTrMgGB3"
      },
      "source": [
        "To visualize the selected units, we need to import some other mapping and visualization libraries (we will install those now)."
      ]
    },
    {
      "cell_type": "code",
      "metadata": {
        "id": "0iXyAtxExKwa",
        "colab": {
          "base_uri": "https://localhost:8080/"
        },
        "outputId": "8a621e17-8246-4867-d47c-4561acce8b3a"
      },
      "source": [
        "%%time \n",
        "\n",
        "# Important library for many geopython libraries\n",
        "!apt install gdal-bin python-gdal python3-gdal \n",
        "# Install rtree - Geopandas requirment\n",
        "!apt install python3-rtree \n",
        "# Install descartes - Geopandas requirment\n",
        "!pip install descartes \n",
        "# Install Folium for Geographic data visualization\n",
        "!pip install folium\n",
        "# Install MapClassify \n",
        "!pip install -U mapclassify"
      ],
      "execution_count": null,
      "outputs": [
        {
          "output_type": "stream",
          "name": "stdout",
          "text": [
            "Reading package lists... Done\n",
            "Building dependency tree       \n",
            "Reading state information... Done\n",
            "gdal-bin is already the newest version (2.2.3+dfsg-2).\n",
            "python-gdal is already the newest version (2.2.3+dfsg-2).\n",
            "The following additional packages will be installed:\n",
            "  python3-numpy\n",
            "Suggested packages:\n",
            "  python-numpy-doc python3-nose python3-numpy-dbg\n",
            "The following NEW packages will be installed:\n",
            "  python3-gdal python3-numpy\n",
            "0 upgraded, 2 newly installed, 0 to remove and 37 not upgraded.\n",
            "Need to get 2,288 kB of archives.\n",
            "After this operation, 13.2 MB of additional disk space will be used.\n",
            "Get:1 http://archive.ubuntu.com/ubuntu bionic/main amd64 python3-numpy amd64 1:1.13.3-2ubuntu1 [1,943 kB]\n",
            "Get:2 http://archive.ubuntu.com/ubuntu bionic/universe amd64 python3-gdal amd64 2.2.3+dfsg-2 [346 kB]\n",
            "Fetched 2,288 kB in 2s (1,439 kB/s)\n",
            "Selecting previously unselected package python3-numpy.\n",
            "(Reading database ... 155222 files and directories currently installed.)\n",
            "Preparing to unpack .../python3-numpy_1%3a1.13.3-2ubuntu1_amd64.deb ...\n",
            "Unpacking python3-numpy (1:1.13.3-2ubuntu1) ...\n",
            "Selecting previously unselected package python3-gdal.\n",
            "Preparing to unpack .../python3-gdal_2.2.3+dfsg-2_amd64.deb ...\n",
            "Unpacking python3-gdal (2.2.3+dfsg-2) ...\n",
            "Setting up python3-numpy (1:1.13.3-2ubuntu1) ...\n",
            "Setting up python3-gdal (2.2.3+dfsg-2) ...\n",
            "Processing triggers for man-db (2.8.3-2ubuntu0.1) ...\n",
            "Reading package lists... Done\n",
            "Building dependency tree       \n",
            "Reading state information... Done\n",
            "The following additional packages will be installed:\n",
            "  libspatialindex-c4v5 libspatialindex-dev libspatialindex4v5\n",
            "  python3-pkg-resources\n",
            "Suggested packages:\n",
            "  python3-setuptools\n",
            "The following NEW packages will be installed:\n",
            "  libspatialindex-c4v5 libspatialindex-dev libspatialindex4v5\n",
            "  python3-pkg-resources python3-rtree\n",
            "0 upgraded, 5 newly installed, 0 to remove and 37 not upgraded.\n",
            "Need to get 671 kB of archives.\n",
            "After this operation, 3,948 kB of additional disk space will be used.\n",
            "Get:1 http://archive.ubuntu.com/ubuntu bionic/universe amd64 libspatialindex4v5 amd64 1.8.5-5 [219 kB]\n",
            "Get:2 http://archive.ubuntu.com/ubuntu bionic/universe amd64 libspatialindex-c4v5 amd64 1.8.5-5 [51.7 kB]\n",
            "Get:3 http://archive.ubuntu.com/ubuntu bionic/main amd64 python3-pkg-resources all 39.0.1-2 [98.8 kB]\n",
            "Get:4 http://archive.ubuntu.com/ubuntu bionic/universe amd64 libspatialindex-dev amd64 1.8.5-5 [285 kB]\n",
            "Get:5 http://archive.ubuntu.com/ubuntu bionic/universe amd64 python3-rtree all 0.8.3+ds-1 [16.9 kB]\n",
            "Fetched 671 kB in 1s (530 kB/s)\n",
            "Selecting previously unselected package libspatialindex4v5:amd64.\n",
            "(Reading database ... 155632 files and directories currently installed.)\n",
            "Preparing to unpack .../libspatialindex4v5_1.8.5-5_amd64.deb ...\n",
            "Unpacking libspatialindex4v5:amd64 (1.8.5-5) ...\n",
            "Selecting previously unselected package libspatialindex-c4v5:amd64.\n",
            "Preparing to unpack .../libspatialindex-c4v5_1.8.5-5_amd64.deb ...\n",
            "Unpacking libspatialindex-c4v5:amd64 (1.8.5-5) ...\n",
            "Selecting previously unselected package python3-pkg-resources.\n",
            "Preparing to unpack .../python3-pkg-resources_39.0.1-2_all.deb ...\n",
            "Unpacking python3-pkg-resources (39.0.1-2) ...\n",
            "Selecting previously unselected package libspatialindex-dev:amd64.\n",
            "Preparing to unpack .../libspatialindex-dev_1.8.5-5_amd64.deb ...\n",
            "Unpacking libspatialindex-dev:amd64 (1.8.5-5) ...\n",
            "Selecting previously unselected package python3-rtree.\n",
            "Preparing to unpack .../python3-rtree_0.8.3+ds-1_all.deb ...\n",
            "Unpacking python3-rtree (0.8.3+ds-1) ...\n",
            "Setting up libspatialindex4v5:amd64 (1.8.5-5) ...\n",
            "Setting up python3-pkg-resources (39.0.1-2) ...\n",
            "Setting up libspatialindex-c4v5:amd64 (1.8.5-5) ...\n",
            "Setting up libspatialindex-dev:amd64 (1.8.5-5) ...\n",
            "Setting up python3-rtree (0.8.3+ds-1) ...\n",
            "Processing triggers for libc-bin (2.27-3ubuntu1.3) ...\n",
            "/sbin/ldconfig.real: /usr/local/lib/python3.7/dist-packages/ideep4py/lib/libmkldnn.so.0 is not a symbolic link\n",
            "\n",
            "Requirement already satisfied: descartes in /usr/local/lib/python3.7/dist-packages (1.1.0)\n",
            "Requirement already satisfied: matplotlib in /usr/local/lib/python3.7/dist-packages (from descartes) (3.2.2)\n",
            "Requirement already satisfied: python-dateutil>=2.1 in /usr/local/lib/python3.7/dist-packages (from matplotlib->descartes) (2.8.2)\n",
            "Requirement already satisfied: pyparsing!=2.0.4,!=2.1.2,!=2.1.6,>=2.0.1 in /usr/local/lib/python3.7/dist-packages (from matplotlib->descartes) (3.0.6)\n",
            "Requirement already satisfied: numpy>=1.11 in /usr/local/lib/python3.7/dist-packages (from matplotlib->descartes) (1.19.5)\n",
            "Requirement already satisfied: kiwisolver>=1.0.1 in /usr/local/lib/python3.7/dist-packages (from matplotlib->descartes) (1.3.2)\n",
            "Requirement already satisfied: cycler>=0.10 in /usr/local/lib/python3.7/dist-packages (from matplotlib->descartes) (0.11.0)\n",
            "Requirement already satisfied: six>=1.5 in /usr/local/lib/python3.7/dist-packages (from python-dateutil>=2.1->matplotlib->descartes) (1.15.0)\n",
            "Requirement already satisfied: folium in /usr/local/lib/python3.7/dist-packages (0.8.3)\n",
            "Requirement already satisfied: numpy in /usr/local/lib/python3.7/dist-packages (from folium) (1.19.5)\n",
            "Requirement already satisfied: six in /usr/local/lib/python3.7/dist-packages (from folium) (1.15.0)\n",
            "Requirement already satisfied: branca>=0.3.0 in /usr/local/lib/python3.7/dist-packages (from folium) (0.4.2)\n",
            "Requirement already satisfied: requests in /usr/local/lib/python3.7/dist-packages (from folium) (2.23.0)\n",
            "Requirement already satisfied: jinja2 in /usr/local/lib/python3.7/dist-packages (from folium) (2.11.3)\n",
            "Requirement already satisfied: MarkupSafe>=0.23 in /usr/local/lib/python3.7/dist-packages (from jinja2->folium) (2.0.1)\n",
            "Requirement already satisfied: certifi>=2017.4.17 in /usr/local/lib/python3.7/dist-packages (from requests->folium) (2021.10.8)\n",
            "Requirement already satisfied: urllib3!=1.25.0,!=1.25.1,<1.26,>=1.21.1 in /usr/local/lib/python3.7/dist-packages (from requests->folium) (1.24.3)\n",
            "Requirement already satisfied: idna<3,>=2.5 in /usr/local/lib/python3.7/dist-packages (from requests->folium) (2.10)\n",
            "Requirement already satisfied: chardet<4,>=3.0.2 in /usr/local/lib/python3.7/dist-packages (from requests->folium) (3.0.4)\n",
            "Collecting mapclassify\n",
            "  Downloading mapclassify-2.4.3-py3-none-any.whl (38 kB)\n",
            "Requirement already satisfied: scipy>=1.0 in /usr/local/lib/python3.7/dist-packages (from mapclassify) (1.4.1)\n",
            "Requirement already satisfied: scikit-learn in /usr/local/lib/python3.7/dist-packages (from mapclassify) (1.0.1)\n",
            "Requirement already satisfied: numpy>=1.3 in /usr/local/lib/python3.7/dist-packages (from mapclassify) (1.19.5)\n",
            "Requirement already satisfied: pandas>=1.0 in /usr/local/lib/python3.7/dist-packages (from mapclassify) (1.1.5)\n",
            "Requirement already satisfied: networkx in /usr/local/lib/python3.7/dist-packages (from mapclassify) (2.6.3)\n",
            "Requirement already satisfied: pytz>=2017.2 in /usr/local/lib/python3.7/dist-packages (from pandas>=1.0->mapclassify) (2018.9)\n",
            "Requirement already satisfied: python-dateutil>=2.7.3 in /usr/local/lib/python3.7/dist-packages (from pandas>=1.0->mapclassify) (2.8.2)\n",
            "Requirement already satisfied: six>=1.5 in /usr/local/lib/python3.7/dist-packages (from python-dateutil>=2.7.3->pandas>=1.0->mapclassify) (1.15.0)\n",
            "Requirement already satisfied: joblib>=0.11 in /usr/local/lib/python3.7/dist-packages (from scikit-learn->mapclassify) (1.1.0)\n",
            "Requirement already satisfied: threadpoolctl>=2.0.0 in /usr/local/lib/python3.7/dist-packages (from scikit-learn->mapclassify) (3.0.0)\n",
            "Installing collected packages: mapclassify\n",
            "Successfully installed mapclassify-2.4.3\n",
            "CPU times: user 332 ms, sys: 79.7 ms, total: 412 ms\n",
            "Wall time: 31.2 s\n"
          ]
        }
      ]
    },
    {
      "cell_type": "code",
      "metadata": {
        "id": "VMfT8PtL-xeI"
      },
      "source": [
        "import matplotlib.pyplot as plt\n",
        "from mpl_toolkits.axes_grid1 import make_axes_locatable\n",
        "import numpy as np\n",
        "import folium"
      ],
      "execution_count": null,
      "outputs": []
    },
    {
      "cell_type": "markdown",
      "metadata": {
        "id": "jP3opQMLnRi8"
      },
      "source": [
        "Before we map, we can also quality-check our data."
      ]
    },
    {
      "cell_type": "code",
      "metadata": {
        "colab": {
          "base_uri": "https://localhost:8080/"
        },
        "id": "b4eG1dX1DHPQ",
        "outputId": "b84202ad-4ef3-43d3-b422-dc9fe95dec2f"
      },
      "source": [
        "# Check if there are nulls/missing values in data \n",
        "#np.sum(gdf.isnull())\n",
        "gdf.info()"
      ],
      "execution_count": null,
      "outputs": [
        {
          "output_type": "stream",
          "name": "stdout",
          "text": [
            "<class 'geopandas.geodataframe.GeoDataFrame'>\n",
            "RangeIndex: 16 entries, 0 to 15\n",
            "Data columns (total 8 columns):\n",
            " #   Column      Non-Null Count  Dtype   \n",
            "---  ------      --------------  -----   \n",
            " 0   CSO_depart  16 non-null     float64 \n",
            " 1   CSOterr_ID  16 non-null     int64   \n",
            " 2   CNSM_NoMGT  16 non-null     float64 \n",
            " 3   Acres       16 non-null     float64 \n",
            " 4   LMU_ID      16 non-null     int64   \n",
            " 5   res_d_STND  16 non-null     float64 \n",
            " 6   res_d_SPM   16 non-null     float64 \n",
            " 7   geometry    16 non-null     geometry\n",
            "dtypes: float64(5), geometry(1), int64(2)\n",
            "memory usage: 1.1 KB\n"
          ]
        }
      ]
    },
    {
      "cell_type": "code",
      "metadata": {
        "colab": {
          "base_uri": "https://localhost:8080/",
          "height": 293
        },
        "id": "5-n4tcnyA5r7",
        "outputId": "fe02dbbb-c964-4506-c43b-3b193473c19a"
      },
      "source": [
        "gdf.plot() # Make sure it is plottable"
      ],
      "execution_count": null,
      "outputs": [
        {
          "output_type": "execute_result",
          "data": {
            "text/plain": [
              "<matplotlib.axes._subplots.AxesSubplot at 0x7fef4c9c2790>"
            ]
          },
          "metadata": {},
          "execution_count": 27
        },
        {
          "output_type": "display_data",
          "data": {
            "image/png": "[encoded data removed]",
            "text/plain": [
              "<Figure size 432x288 with 1 Axes>"
            ]
          },
          "metadata": {
            "needs_background": "light"
          }
        }
      ]
    },
    {
      "cell_type": "markdown",
      "source": [
        "### __Visualizing results with a custom function__\n",
        "\n",
        "Let's write a function that will plot the spatial layer and highlight the selected units with hatching. This function will create a choropleth map with different colors corresponding to different values of associated benefit. "
      ],
      "metadata": {
        "id": "7pEH4lebrMEl"
      }
    },
    {
      "cell_type": "code",
      "metadata": {
        "id": "TT14G9CWADZS"
      },
      "source": [
        "# Plotting function\n",
        "\n",
        "def plot_objective_value(path_to_shapefile: str, obj_var: str, selected_ids = [], save_fig_path=None, choro_type='classification', save_fig=False):\n",
        "  \"\"\"\n",
        "  Given a path to shapefile (path_to_shapefile) and a name of variable storing \n",
        "  the name of a variable (obj_var) creates a choropleth map which is  \n",
        "  either classified via discrete classes scale (default) or via continuous scale. \n",
        "  Make sure to supply a POLYGON geometry type and a plot title.  \n",
        "\n",
        "  Arguments: \n",
        "  path_to_shapefile   [string]\n",
        "  obj_var             [string]\n",
        "  save_fig_path       [string]\n",
        "  choro_type          [string]\n",
        "  save_fig            [bool]\n",
        "  selected_ids        [list]\n",
        "\n",
        "  THINGS TO ADD: \n",
        "  Given the id-s of a shapefile, highlight the area selected by the \n",
        "  knapsack algorithm\n",
        "\n",
        "  \"\"\"\n",
        "\n",
        "  # make sure the save arguments are supplied \n",
        "  if save_fig and save_fig_path is None:\n",
        "    raise ValueError(\"save_fig_path is not defined\")\n",
        "  \n",
        "  gdf = gpd.read_file(path_to_shapefile) \n",
        "  \n",
        "  # add outline \n",
        "  if len(selected_ids)>0:\n",
        "    mysel = gdf.loc[gdf.LMU_ID.isin(selected_ids),]\n",
        "\n",
        "  fig, ax = plt.subplots(figsize=(16,10))\n",
        "\n",
        "  if choro_type=='classification':\n",
        "    gdf.plot(column=obj_var, ax=ax, legend=True, scheme='quantiles', \\\n",
        "             legend_kwds={'loc': 'lower right'})\n",
        "    gdf.plot(color='None', edgecolor='k', ax=ax) # add boundaries \n",
        "    if len(selected_ids)>0:\n",
        "      mysel = gdf.loc[gdf.LMU_ID.isin(selected_ids),]\n",
        "      mysel.plot(color='None', edgecolor='r', linewidth=5, ax=ax, hatch='///') # add highlight\n",
        "    ax.set_title(obj_var, fontsize=18)\n",
        "\n",
        "  else:\n",
        "    divider = make_axes_locatable(ax1)\n",
        "    cax = divider.append_axes(\"right\", size=\"5%\", pad=0.1)\n",
        "    \n",
        "    gdf.plot(column=obj_var, legend=True, ax=ax, cax=cax)\n",
        "    gdf.plot(color='None', edgecolor='k', ax=ax) # add boundaries \n",
        "    if len(selected_ids)>0:\n",
        "      mysel = gdf.loc[gdf.LMU_ID.isin(selected_ids),]\n",
        "      mysel.plot(color='None', edgecolor='r', linewidth=5, ax=ax, hatch='///') # add highlight\n",
        "    ax.set_title(obj_var, fontsize=18)\n",
        "\n",
        "  # save figure \n",
        "  if save_fig:\n",
        "    print(f\"file saved to {save_fig_path}\")\n",
        "    fig.savefig(save_fig_path)"
      ],
      "execution_count": null,
      "outputs": []
    },
    {
      "cell_type": "code",
      "metadata": {
        "colab": {
          "base_uri": "https://localhost:8080/",
          "height": 611
        },
        "id": "Zfw3YjlgBAQC",
        "outputId": "6af8c9ce-01e5-42c3-c116-ee89871eface"
      },
      "source": [
        "plot_objective_value('knapsack_example.geojson', 'res_d_SPM', selected_ids=var_solutions)"
      ],
      "execution_count": null,
      "outputs": [
        {
          "output_type": "display_data",
          "data": {
            "image/png": "[encoded data removed]",
            "text/plain": [
              "<Figure size 1152x720 with 1 Axes>"
            ]
          },
          "metadata": {
            "needs_background": "light"
          }
        }
      ]
    },
    {
      "cell_type": "markdown",
      "source": [
        "Above, you can see the parameter `obj_var` is passed the argument \"res_d_SPM\" and the `selected_ids` parameter is given our solutions, the object \"var_solutions.\"\n",
        "\n",
        "You can also see that the plot visualizes both the benefit associated with each land unit (dark purple / top legend item corresponds to a lower value range, yellow / lower legend item corresponds to a high value range). Hatching is overlayed on the land units selected for treatment. Below, we can generate and save the plot."
      ],
      "metadata": {
        "id": "OZaN-hHnz2eK"
      }
    },
    {
      "cell_type": "code",
      "metadata": {
        "colab": {
          "base_uri": "https://localhost:8080/",
          "height": 628
        },
        "id": "shcyKNGTFx1P",
        "outputId": "811aa91d-88f3-43e8-a10b-a19abb9bc7f2"
      },
      "source": [
        "# Generate and save the plot\n",
        "plot_objective_value('knapsack_example.geojson', 'res_d_SPM', save_fig_path='my_choro_map.jpeg', save_fig=True, selected_ids=var_solutions)"
      ],
      "execution_count": null,
      "outputs": [
        {
          "output_type": "stream",
          "name": "stdout",
          "text": [
            "file saved to my_choro_map.jpeg\n"
          ]
        },
        {
          "output_type": "display_data",
          "data": {
            "image/png": "[encoded data removed]",
            "text/plain": [
              "<Figure size 1152x720 with 1 Axes>"
            ]
          },
          "metadata": {
            "needs_background": "light"
          }
        }
      ]
    },
    {
      "cell_type": "markdown",
      "source": [
        "That is it! With the given solutions and visualizations, further analysis and decision-making can follow."
      ],
      "metadata": {
        "id": "SD5HlfII0X3C"
      }
    },
    {
      "cell_type": "markdown",
      "metadata": {
        "id": "bMgzvpx-n4aM"
      },
      "source": [
        "***\n",
        "\n",
        "## **PART IV**: Try it on your own\n",
        "\n",
        "Now that you have seen all of the pieces of formalizing and solving a spatial optimization problem, try to expand it on your own. Some questions you could try to answer:\n",
        "\n",
        "1. How will the problem change if the threshold capacity is switched to 80 units?\n",
        "2. What if we allow portions of the land units to be treated, how do we modify the problem?\n",
        "3. What types of constraints might be add, and what would they look like (both mathematically and in Xpress / Python)?\n",
        "\n",
        "You could also try another type of problem, here, the transportation problem$^{3}$.\n",
        "\n",
        "4. How would you implement the following?\n",
        "\n",
        "$ \\textit{Minimize} \\;\\;\\;\\; \\Sigma_{i=1}^{m} \\Sigma_{j=1}^{n} c_{ij} x_{ij} $\n",
        "\n",
        "$ \\textit{Subject to} \\;\\;\\; \\Sigma_{j=1}^{n} x_{ij} \\leq s_{i} \\; \\forall i $\n",
        "\n",
        "$ \\;\\;\\;\\;\\;\\;\\;\\;\\;\\;\\;\\;\\;\\;\\;\\; \\Sigma_{i=1}^{m} x_{ij} \\geq d_{j} \\; \\forall j $\n",
        "\n",
        "$ \\;\\;\\;\\;\\;\\;\\;\\;\\;\\;\\;\\;\\;\\;\\;\\;\\, x_{ij} \\geq 0 \\; \\forall i,j $\n",
        "\n",
        "$ \\textrm{where} $\n",
        "\n",
        "$ \\;\\;\\;\\;\\; i \\textrm{ = index of supply locations}$\n",
        "\n",
        "$ \\;\\;\\;\\;\\; j \\textrm{ = index of demand locations}$\n",
        "\n",
        "$ \\;\\;\\;\\;\\; x_{ij} \\textrm{ = number of units allocated from } i \\textrm{ to } j $\n",
        "\n",
        "$ \\;\\;\\;\\;\\; c_{ij} \\textrm{ = cost of transporting one unit from supply } i \\textrm{ to demand } j$\n",
        "\n",
        "$ \\;\\;\\;\\;\\; d_{j} \\textrm{ = amount requested by demand } j $\n",
        "\n",
        "$ \\;\\;\\;\\;\\; s_{i} \\textrm{ = amount of goods available by supply } i $\n",
        "\n",
        "Data:\n"
      ]
    },
    {
      "cell_type": "code",
      "source": [
        "\n",
        "Supply_cities = [\"AlbertLea\", \"Eugene\", \"Bellingham\"]\n",
        "Supply = {\"AlbertLea\": 100.0, \"Eugene\": 125.0, \"Bellingham\": 75.0}\n",
        "\n",
        "Demand_cities = [\"Sacramento\", \"Albuquerque\", \"RapidCity\", \"SaltLakeCity\"]\n",
        "Demand = {\"Sacramento\": 80.0, \"Albuquerque\": 85.0, \"RapidCity\": 70.0, \"SaltLakeCity\":65.0}\n",
        "\n",
        "Cost = {(\"AlbertLea\", \"Sacramento\"): 0.01101366431, (\"AlbertLea\", \"Albuquerque\"): 0.04860825103, (\"AlbertLea\", \"RapidCity\"): 0.13705260459, (\"AlbertLea\", \"SaltLakeCity\"): 0.03138397400,\n",
        "        (\"Eugene\", \"Sacramento\"): 0.81523705084, (\"Eugene\", \"Albuquerque\"): 0.04202275424, (\"Eugene\", \"RapidCity\"): 0.03178196957, (\"Eugene\", \"SaltLakeCity\"): 0.13809010191,\n",
        "        (\"Bellingham\", \"Sacramento\"): 0.16745819559, (\"Bellingham\", \"Albuquerque\"): 0.02805435047, (\"Bellingham\", \"RapidCity\"): 0.02811501259, (\"Bellingham\", \"SaltLakeCity\"): 0.08829851538\n",
        "}"
      ],
      "metadata": {
        "id": "6kogZuAQ-ltP"
      },
      "execution_count": null,
      "outputs": []
    },
    {
      "cell_type": "markdown",
      "source": [
        "***\n",
        "\n",
        "### **References**\n",
        "1. Frederick, S., and G. Lieberman. _Introduction to Operations Research_. (2001).\n",
        "2. Boyd, S., and L. Vandenberghe. _Convex optimization_. Cambridge University Press (2004).\n",
        "\n",
        "3. Church, R.L. and A.T. Murray. _Business Site Selection, Location Analysis and GIS_. New York: Wiley (2009).\n",
        "\n",
        "4. Church, R. L. and Murray, A. _Location Covering Models_. Springer (2018)."
      ],
      "metadata": {
        "id": "v4-38YUw-mrE"
      }
    }
  ]
}